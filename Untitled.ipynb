{
 "cells": [
  {
   "cell_type": "code",
   "execution_count": 45,
   "metadata": {},
   "outputs": [],
   "source": [
    "from pynq.overlays.base import BaseOverlay\n",
    "from pynq.lib.video import *\n",
    "import numpy as np\n",
    "import asyncio\n",
    "\n",
    "base = BaseOverlay(\"base.bit\")\n",
    "hdmi_in = base.video.hdmi_in\n",
    "hdmi_out = base.video.hdmi_out\n",
    "\n",
    "# initialize IO\n",
    "hdmi_in.configure(PIXEL_RGB)\n",
    "hdmi_out.configure(hdmi_in.mode, PIXEL_RGB)\n",
    "\n",
    "hdmi_in.start()\n",
    "hdmi_out.start()\n",
    "\n",
    "hdmi_in.tie(hdmi_out)\n",
    "\n",
    "vdma = base.video.axi_vdma"
   ]
  },
  {
   "cell_type": "code",
   "execution_count": 46,
   "metadata": {},
   "outputs": [],
   "source": [
    "# colorspace_in = base.video.hdmi_in.color_convert\n",
    "# colorspace_out = base.video.hdmi_out.color_convert\n",
    "\n",
    "# figure out transform for grayscale\n",
    "# gray = pynq.lib.video.COLOR_OUT_GRAY\n",
    "\n",
    "# colorspace_in.colorspace = gray\n",
    "# colorspace_out.colorspace = gray"
   ]
  },
  {
   "cell_type": "code",
   "execution_count": 47,
   "metadata": {},
   "outputs": [],
   "source": [
    "from pynq import allocate\n",
    "\n",
    "frame = hdmi_in.readframe()\n",
    "\n",
    "in_buffer = allocate(shape=frame.shape, dtype=np.uint8)\n",
    "out_buffer = allocate(shape=frame.shape, dtype=np.uint8)\n",
    "\n",
    "in_buffer[:] = frame"
   ]
  },
  {
   "cell_type": "code",
   "execution_count": 48,
   "metadata": {},
   "outputs": [],
   "source": [
    "def run_kernel():\n",
    "    vdma.writechannel.writeframe(in_buffer)\n",
    "#     vdma.readchannel.transfer(out_buffer)\n",
    "#     vdma.sendchannel.wait()\n",
    "#     vdma.recvchannel.wait()"
   ]
  },
  {
   "cell_type": "code",
   "execution_count": null,
   "metadata": {},
   "outputs": [],
   "source": []
  },
  {
   "cell_type": "code",
   "execution_count": null,
   "metadata": {},
   "outputs": [],
   "source": []
  }
 ],
 "metadata": {
  "kernelspec": {
   "display_name": "Python 3",
   "language": "python",
   "name": "python3"
  },
  "language_info": {
   "codemirror_mode": {
    "name": "ipython",
    "version": 3
   },
   "file_extension": ".py",
   "mimetype": "text/x-python",
   "name": "python",
   "nbconvert_exporter": "python",
   "pygments_lexer": "ipython3",
   "version": "3.6.5"
  }
 },
 "nbformat": 4,
 "nbformat_minor": 2
}
