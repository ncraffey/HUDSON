{
 "cells": [
  {
   "cell_type": "code",
   "execution_count": 24,
   "metadata": {},
   "outputs": [],
   "source": [
    "## imports for custom overlay\n",
    "from pynq import Overlay\n",
    "## Import for DMA alloc\n",
    "from pynq import allocate\n",
    "## import for video driver API support\n",
    "from pynq.lib.video import *\n",
    "# import for timing\n",
    "import time\n",
    "## CUSTOM OVERLAY\n",
    "# \n",
    "hudson_overlay = Overlay('workingredshift3.bit')\n",
    "# DMA vars\n",
    "vdma = hudson_overlay.video.axi_vdma\n",
    "dma = hudson_overlay.redDMA.axi_dma_0"
   ]
  },
  {
   "cell_type": "code",
   "execution_count": 36,
   "metadata": {},
   "outputs": [],
   "source": [
    "# send input buffer and read the output\n",
    "def run_kernel():\n",
    "    dma.sendchannel.transfer(in_buffer)\n",
    "#     dma.sendchannel.transfer(shaped_in)\n",
    "    dma.recvchannel.transfer(out_buffer)\n",
    "#     dma.sendchannel.transfer(shaped_out)\n",
    "    dma.sendchannel.wait()\n",
    "    dma.recvchannel.wait()"
   ]
  },
  {
   "cell_type": "code",
   "execution_count": 26,
   "metadata": {},
   "outputs": [
    {
     "data": {
      "text/plain": [
       "<contextlib._GeneratorContextManager at 0xadee6690>"
      ]
     },
     "execution_count": 26,
     "metadata": {},
     "output_type": "execute_result"
    }
   ],
   "source": [
    "# Set HDMI in and out vars\n",
    "hdmi_in = hudson_overlay.video.hdmi_in\n",
    "hdmi_out = hudson_overlay.video.hdmi_out\n",
    "# initialize IO\n",
    "hdmi_in.configure(PIXEL_RGB)\n",
    "hdmi_out.configure(hdmi_in.mode, PIXEL_RGB)\n",
    "\n"
   ]
  },
  {
   "cell_type": "code",
   "execution_count": 27,
   "metadata": {},
   "outputs": [
    {
     "data": {
      "text/plain": [
       "<contextlib._GeneratorContextManager at 0xadee6c90>"
      ]
     },
     "execution_count": 27,
     "metadata": {},
     "output_type": "execute_result"
    }
   ],
   "source": [
    "hdmi_in.start()\n",
    "hdmi_out.start()"
   ]
  },
  {
   "cell_type": "code",
   "execution_count": 28,
   "metadata": {},
   "outputs": [],
   "source": [
    "\n",
    "# in_buffer = allocate(shape=frame.shape, dtype=np.uint8)\n",
    "# out_buffer = allocate(shape=frame.shape, dtype=np.uint8)\n",
    "in_buffer = allocate(shape=720*1280*3, dtype=np.uint8)\n",
    "out_buffer = allocate(shape=720*1280*3, dtype=np.uint8)\n",
    "\n",
    "# show on the screen what an in buffer frame looks like\n",
    "shaped_in = hdmi_in.readframe()\n",
    "in_buffer[:] = np.ndarray.flatten(shaped_in)\n",
    "hdmi_out.writeframe(in_buffer)"
   ]
  },
  {
   "cell_type": "code",
   "execution_count": 29,
   "metadata": {},
   "outputs": [],
   "source": [
    "# config axi lite access\n",
    "resolution = hudson_overlay.redDMA.red_shift_0"
   ]
  },
  {
   "cell_type": "code",
   "execution_count": 30,
   "metadata": {},
   "outputs": [],
   "source": [
    "# set resolution rows and cols via axi lite\n",
    "resolution.write(0x10, 720)\n",
    "resolution.write(0x18, 1280)"
   ]
  },
  {
   "cell_type": "code",
   "execution_count": 35,
   "metadata": {},
   "outputs": [
    {
     "name": "stdout",
     "output_type": "stream",
     "text": [
      "Frames per second:  0.9638641043681159\n"
     ]
    }
   ],
   "source": [
    "# point HDMI out to the out buffer\n",
    "hdmi_out.writeframe(out_buffer)\n",
    "\n",
    "numframes = 15\n",
    "start = time.time()\n",
    "\n",
    "# time 600 frames of processing\n",
    "for _ in range(numframes):\n",
    "    # read a frame, allocate a buffer to hold it\n",
    "    in_buffer[:] = np.ndarray.flatten(hdmi_in.readframe())\n",
    "    run_kernel()\n",
    "    \n",
    "end = time.time()\n",
    "print(\"Frames per second:  \" + str(numframes / (end - start)))\n",
    "\n",
    "    "
   ]
  },
  {
   "cell_type": "markdown",
   "metadata": {},
   "source": [
    "1 frame per second when shifting the whole frame red in hardware"
   ]
  },
  {
   "cell_type": "code",
   "execution_count": 103,
   "metadata": {},
   "outputs": [],
   "source": [
    "# read a frame, allocate a buffer to hold it\n",
    "time.sleep(1)\n",
    "in_buffer[:] = np.ndarray.flatten(hdmi_in.readframe())\n",
    "run_kernel()"
   ]
  },
  {
   "cell_type": "code",
   "execution_count": null,
   "metadata": {},
   "outputs": [],
   "source": [
    "print(shaped_in.shape)\n",
    "for r in range(720):\n",
    "    for c in range(1280):\n",
    "        print(\"pixel\", (r+1)*(c+1), in_buffer[(r+1)*(c+1)],in_buffer[(r+1)*(c+1)+1],in_buffer[(r+1)*(c+1)+2] )"
   ]
  },
  {
   "cell_type": "code",
   "execution_count": null,
   "metadata": {},
   "outputs": [],
   "source": [
    "for r in range(720):\n",
    "    for c in range(1280):\n",
    "        print(\"pixel\", (r+1)*(c+1), \":\", out_buffer[(r+1)*(c+1)],out_buffer[(r+1)*(c+1)+1],out_buffer[(r+1)*(c+1)+2] )"
   ]
  },
  {
   "cell_type": "code",
   "execution_count": 37,
   "metadata": {},
   "outputs": [],
   "source": [
    "hdmi_in.close()\n",
    "hdmi_out.close()\n"
   ]
  },
  {
   "cell_type": "code",
   "execution_count": null,
   "metadata": {},
   "outputs": [],
   "source": []
  },
  {
   "cell_type": "code",
   "execution_count": null,
   "metadata": {},
   "outputs": [],
   "source": [
    "\n"
   ]
  },
  {
   "cell_type": "code",
   "execution_count": null,
   "metadata": {},
   "outputs": [],
   "source": []
  },
  {
   "cell_type": "code",
   "execution_count": null,
   "metadata": {},
   "outputs": [],
   "source": []
  }
 ],
 "metadata": {
  "kernelspec": {
   "display_name": "Python 3",
   "language": "python",
   "name": "python3"
  },
  "language_info": {
   "codemirror_mode": {
    "name": "ipython",
    "version": 3
   },
   "file_extension": ".py",
   "mimetype": "text/x-python",
   "name": "python",
   "nbconvert_exporter": "python",
   "pygments_lexer": "ipython3",
   "version": "3.6.5"
  }
 },
 "nbformat": 4,
 "nbformat_minor": 2
}
