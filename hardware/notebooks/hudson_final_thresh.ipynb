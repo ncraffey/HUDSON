{
 "cells": [
  {
   "cell_type": "code",
   "execution_count": 1,
   "metadata": {},
   "outputs": [
    {
     "data": {
      "application/javascript": [
       "\n",
       "try {\n",
       "require(['notebook/js/codecell'], function(codecell) {\n",
       "  codecell.CodeCell.options_default.highlight_modes[\n",
       "      'magic_text/x-csrc'] = {'reg':[/^%%microblaze/]};\n",
       "  Jupyter.notebook.events.one('kernel_ready.Kernel', function(){\n",
       "      Jupyter.notebook.get_cells().map(function(cell){\n",
       "          if (cell.cell_type == 'code'){ cell.auto_highlight(); } }) ;\n",
       "  });\n",
       "});\n",
       "} catch (e) {};\n"
      ]
     },
     "metadata": {},
     "output_type": "display_data"
    },
    {
     "data": {
      "application/javascript": [
       "\n",
       "try {\n",
       "require(['notebook/js/codecell'], function(codecell) {\n",
       "  codecell.CodeCell.options_default.highlight_modes[\n",
       "      'magic_text/x-csrc'] = {'reg':[/^%%pybind11/]};\n",
       "  Jupyter.notebook.events.one('kernel_ready.Kernel', function(){\n",
       "      Jupyter.notebook.get_cells().map(function(cell){\n",
       "          if (cell.cell_type == 'code'){ cell.auto_highlight(); } }) ;\n",
       "  });\n",
       "});\n",
       "} catch (e) {};\n"
      ]
     },
     "metadata": {},
     "output_type": "display_data"
    }
   ],
   "source": [
    "## imports for custom overlay\n",
    "from pynq import Overlay\n",
    "## Import for DMA alloc\n",
    "from pynq import allocate\n",
    "## import for video driver API support\n",
    "from pynq.lib.video import *\n",
    "## import for timing\n",
    "import time\n",
    "## import for rectangles and any opencv we do in software\n",
    "import cv2\n",
    "\n",
    "## CUSTOM OVERLAY \n",
    "hudson_overlay = Overlay('hudson_final_thresh.bit')\n",
    "# DMA vars\n",
    "vdma = hudson_overlay.video.axi_vdma\n",
    "dma = hudson_overlay.redDMA.axi_dma_0\n",
    "# config axi lite access\n",
    "axilite = hudson_overlay.redDMA.threshold_accel_0"
   ]
  },
  {
   "cell_type": "code",
   "execution_count": 2,
   "metadata": {},
   "outputs": [],
   "source": [
    "# send input buffer and read the output\n",
    "\n",
    "def run_kernel():\n",
    "    dma.sendchannel.transfer(in_buffer)\n",
    "    dma.recvchannel.transfer(out_buffer)\n",
    "    dma.sendchannel.wait()\n",
    "    dma.recvchannel.wait()"
   ]
  },
  {
   "cell_type": "code",
   "execution_count": 3,
   "metadata": {},
   "outputs": [
    {
     "data": {
      "text/plain": [
       "<contextlib._GeneratorContextManager at 0xa75c1f30>"
      ]
     },
     "execution_count": 3,
     "metadata": {},
     "output_type": "execute_result"
    }
   ],
   "source": [
    "# Set HDMI in and out vars\n",
    "hdmi_in = hudson_overlay.video.hdmi_in\n",
    "hdmi_out = hudson_overlay.video.hdmi_out\n",
    "# initialize IO\n",
    "hdmi_in.configure(PIXEL_RGB)\n",
    "hdmi_out.configure(hdmi_in.mode, PIXEL_RGB)\n",
    "\n"
   ]
  },
  {
   "cell_type": "code",
   "execution_count": 4,
   "metadata": {},
   "outputs": [
    {
     "data": {
      "text/plain": [
       "<contextlib._GeneratorContextManager at 0xb00604f0>"
      ]
     },
     "execution_count": 4,
     "metadata": {},
     "output_type": "execute_result"
    }
   ],
   "source": [
    "hdmi_in.start()\n",
    "hdmi_out.start()"
   ]
  },
  {
   "cell_type": "code",
   "execution_count": 5,
   "metadata": {},
   "outputs": [],
   "source": [
    "# Read in a frame and allocate space for it in\n",
    "# what will become axi stream buffer\n",
    "shaped_in = hdmi_in.readframe()\n",
    "in_buffer = allocate(shape=(720,1280,3), dtype=np.uint8)\n",
    "out_buffer = allocate(shape=(720,1280,3), dtype=np.uint8)\n",
    "\n",
    "# show on the screen what an in buffer frame looks like\n",
    "in_buffer[:] = shaped_in\n",
    "hdmi_out.writeframe(in_buffer)"
   ]
  },
  {
   "cell_type": "code",
   "execution_count": 6,
   "metadata": {},
   "outputs": [],
   "source": [
    "# set axi lite vals\n",
    "axilite.write(0x10, 30) # thresh\n",
    "axilite.write(0x18, 255) # maxval\n",
    "axilite.write(0x20, 720) # rows\n",
    "axilite.write(0x28, 1280) # cols\n",
    "# axilite.write(0x40, 0) # sigma value for gaus blur"
   ]
  },
  {
   "cell_type": "code",
   "execution_count": 7,
   "metadata": {},
   "outputs": [
    {
     "name": "stdout",
     "output_type": "stream",
     "text": [
      "Frames per second:  23.463065025879057\n"
     ]
    }
   ],
   "source": [
    "# point HDMI out to the in buffer\n",
    "hdmi_out.writeframe(in_buffer)\n",
    "\n",
    "size = 200\n",
    "\n",
    "numframes = 600\n",
    "start = time.time()\n",
    "\n",
    "# time <numframes> frames of processing\n",
    "for _ in range(numframes):\n",
    "    # read a frame into buffer to hold it\n",
    "    in_buffer = hdmi_in.readframe()\n",
    "    # send in buffer to hardware for processing\n",
    "    run_kernel()\n",
    "    # read the axi lite ports for rectangle coordinates and put them on the in_buffer\n",
    "    cv2.rectangle(in_buffer, (axilite.read(0x30),axilite.read(0x38)), (size,size), (0, 0, 255), 2)\n",
    "    # write buffer to screen\n",
    "    # NOTE: change this line to write out buffer to see what the processed image looks like\n",
    "    #       or in buffer to see the original image with recatagles drawn\n",
    "    hdmi_out.writeframe(out_buffer)\n",
    "    \n",
    "end = time.time()\n",
    "print(\"Frames per second:  \" + str(numframes / (end - start)))\n",
    "\n",
    "    "
   ]
  },
  {
   "cell_type": "markdown",
   "metadata": {},
   "source": [
    "almost 24 frames per second when thresholding in hardware"
   ]
  },
  {
   "cell_type": "code",
   "execution_count": 8,
   "metadata": {},
   "outputs": [
    {
     "name": "stdout",
     "output_type": "stream",
     "text": [
      "Frames per second:  37.85172979975052\n"
     ]
    }
   ],
   "source": [
    "## Software thresholding test\n",
    "gray = np.ndarray(shape=(hdmi_in.mode.height, \n",
    "                              hdmi_in.mode.width,3), dtype=np.uint8)\n",
    "\n",
    "buffer1 = allocate(shape=(720,1280,3), dtype=np.uint8)\n",
    "buffer2 = allocate(shape=(720,1280,3), dtype=np.uint8)\n",
    "\n",
    "numframes = 300\n",
    "start = time.time()\n",
    "\n",
    "for _ in range(numframes):\n",
    "    buffer1 = hdmi_in.readframe()\n",
    "    cv2.threshold(buffer1,30,255,cv2.THRESH_BINARY, dst=buffer2)\n",
    "    hdmi_out.writeframe(buffer2)\n",
    "end = time.time()\n",
    "print(\"Frames per second:  \" + str(numframes / (end - start)))"
   ]
  },
  {
   "cell_type": "markdown",
   "metadata": {},
   "source": [
    "almost 38 frames per second when thresholding in software"
   ]
  },
  {
   "cell_type": "code",
   "execution_count": 9,
   "metadata": {},
   "outputs": [],
   "source": [
    "hdmi_in.close()\n",
    "hdmi_out.close()"
   ]
  },
  {
   "cell_type": "code",
   "execution_count": null,
   "metadata": {},
   "outputs": [],
   "source": []
  },
  {
   "cell_type": "code",
   "execution_count": null,
   "metadata": {},
   "outputs": [],
   "source": []
  },
  {
   "cell_type": "code",
   "execution_count": null,
   "metadata": {},
   "outputs": [],
   "source": [
    "\n"
   ]
  },
  {
   "cell_type": "code",
   "execution_count": null,
   "metadata": {},
   "outputs": [],
   "source": []
  },
  {
   "cell_type": "code",
   "execution_count": null,
   "metadata": {},
   "outputs": [],
   "source": [
    "\n"
   ]
  },
  {
   "cell_type": "code",
   "execution_count": null,
   "metadata": {},
   "outputs": [],
   "source": []
  },
  {
   "cell_type": "code",
   "execution_count": null,
   "metadata": {},
   "outputs": [],
   "source": []
  }
 ],
 "metadata": {
  "kernelspec": {
   "display_name": "Python 3",
   "language": "python",
   "name": "python3"
  },
  "language_info": {
   "codemirror_mode": {
    "name": "ipython",
    "version": 3
   },
   "file_extension": ".py",
   "mimetype": "text/x-python",
   "name": "python",
   "nbconvert_exporter": "python",
   "pygments_lexer": "ipython3",
   "version": "3.6.5"
  }
 },
 "nbformat": 4,
 "nbformat_minor": 2
}
