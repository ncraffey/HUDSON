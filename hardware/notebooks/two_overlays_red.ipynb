{
 "cells": [
  {
   "cell_type": "code",
   "execution_count": null,
   "metadata": {},
   "outputs": [
    {
     "output_type": "error",
     "ename": "Error",
     "evalue": "KeyboardInterrupt",
     "traceback": [
      "Error: KeyboardInterrupt",
      "at b.parseConnectInfo (/Users/johncraffey/.vscode/extensions/ms-toolsai.jupyter-2021.3.684299474/out/client/extension.js:49:476526)",
      "at b.connectToLocal (/Users/johncraffey/.vscode/extensions/ms-toolsai.jupyter-2021.3.684299474/out/client/extension.js:49:477129)",
      "at async b.connect (/Users/johncraffey/.vscode/extensions/ms-toolsai.jupyter-2021.3.684299474/out/client/extension.js:49:475006)",
      "at async b.startDebugSession (/Users/johncraffey/.vscode/extensions/ms-toolsai.jupyter-2021.3.684299474/out/client/extension.js:49:474153)",
      "at async T.submitCode (/Users/johncraffey/.vscode/extensions/ms-toolsai.jupyter-2021.3.684299474/out/client/extension.js:32:610139)",
      "at async T.handleRunByLine (/Users/johncraffey/.vscode/extensions/ms-toolsai.jupyter-2021.3.684299474/out/client/extension.js:32:598085)"
     ]
    }
   ],
   "source": [
    "### This is the first attempt at using our own IP by loading the base overlay to get HDMI access\n",
    "### then loading our custom overlay to process the captured frame\n",
    "### then loading the base overlay again to send the processed frame via HDMI out\n",
    "### it is very inefficient so we designed a combined HDMI/custom overlay that includes our IP"
   ]
  },
  {
   "cell_type": "code",
   "execution_count": 1,
   "metadata": {},
   "outputs": [
    {
     "data": {
      "application/javascript": [
       "\n",
       "try {\n",
       "require(['notebook/js/codecell'], function(codecell) {\n",
       "  codecell.CodeCell.options_default.highlight_modes[\n",
       "      'magic_text/x-csrc'] = {'reg':[/^%%microblaze/]};\n",
       "  Jupyter.notebook.events.one('kernel_ready.Kernel', function(){\n",
       "      Jupyter.notebook.get_cells().map(function(cell){\n",
       "          if (cell.cell_type == 'code'){ cell.auto_highlight(); } }) ;\n",
       "  });\n",
       "});\n",
       "} catch (e) {};\n"
      ]
     },
     "metadata": {},
     "output_type": "display_data"
    },
    {
     "data": {
      "application/javascript": [
       "\n",
       "try {\n",
       "require(['notebook/js/codecell'], function(codecell) {\n",
       "  codecell.CodeCell.options_default.highlight_modes[\n",
       "      'magic_text/x-csrc'] = {'reg':[/^%%pybind11/]};\n",
       "  Jupyter.notebook.events.one('kernel_ready.Kernel', function(){\n",
       "      Jupyter.notebook.get_cells().map(function(cell){\n",
       "          if (cell.cell_type == 'code'){ cell.auto_highlight(); } }) ;\n",
       "  });\n",
       "});\n",
       "} catch (e) {};\n"
      ]
     },
     "metadata": {},
     "output_type": "display_data"
    }
   ],
   "source": [
    "## imports for custom overlay\n",
    "from pynq import Overlay\n",
    "import numpy as np\n",
    "## imports for baseoverlay HDMI\n",
    "from pynq.overlays.base import BaseOverlay\n",
    "from pynq.lib.video import *\n",
    "import numpy as np\n",
    "import asyncio\n",
    "## Import for DMA alloc\n",
    "from pynq import allocate\n",
    "\n"
   ]
  },
  {
   "cell_type": "code",
   "execution_count": 2,
   "metadata": {},
   "outputs": [],
   "source": [
    "PIXEL_RGB?"
   ]
  },
  {
   "cell_type": "code",
   "execution_count": 24,
   "metadata": {},
   "outputs": [
    {
     "data": {
      "text/plain": [
       "<contextlib._GeneratorContextManager at 0xac6e87b0>"
      ]
     },
     "execution_count": 24,
     "metadata": {},
     "output_type": "execute_result"
    }
   ],
   "source": [
    "## BASE OVERLAY\n",
    "\n",
    "base = BaseOverlay(\"base.bit\")\n",
    "vdma = base.video.axi_vdma\n",
    "\n",
    "# Set HDMI in and out vars\n",
    "hdmi_in = base.video.hdmi_in\n",
    "hdmi_out = base.video.hdmi_out\n",
    "# initialize IO\n",
    "hdmi_in.configure(PIXEL_RGB)\n",
    "hdmi_out.configure(hdmi_in.mode, PIXEL_RGB)\n",
    "\n",
    "hdmi_in.start()\n",
    "hdmi_out.start()"
   ]
  },
  {
   "cell_type": "code",
   "execution_count": 25,
   "metadata": {},
   "outputs": [
    {
     "name": "stdout",
     "output_type": "stream",
     "text": [
      "2764800\n"
     ]
    }
   ],
   "source": [
    "# read a frame, allocate a buffer to hold it\n",
    "frame = hdmi_in.readframe()\n",
    "\n",
    "# in_buffer = allocate(shape=frame.shape, dtype=np.uint8)\n",
    "# out_buffer = allocate(shape=frame.shape, dtype=np.uint8)\n",
    "in_buffer = allocate(shape=720*1280*3, dtype=np.uint8)\n",
    "out_buffer = allocate(shape=720*1280*3, dtype=np.uint8)\n",
    "\n",
    "in_buffer[:] = np.ndarray.flatten(frame)\n",
    "hdmi_out.writeframe(in_buffer)\n",
    "print(len(in_buffer))\n",
    "# print(len(in_buffer[0]))\n",
    "# print(len(in_buffer[0][0]))"
   ]
  },
  {
   "cell_type": "code",
   "execution_count": 26,
   "metadata": {},
   "outputs": [],
   "source": [
    "hdmi_out.close()\n",
    "hdmi_in.close()"
   ]
  },
  {
   "cell_type": "code",
   "execution_count": 27,
   "metadata": {},
   "outputs": [],
   "source": [
    "## CUSTOM OVERLAY\n",
    "# Then do the stream overlay for the processing\n",
    "stream_overlay = Overlay('passthru.bit')\n",
    "dma = stream_overlay.redDMA.axi_dma_0\n",
    "resolution = stream_overlay.redDMA.red_shift_0"
   ]
  },
  {
   "cell_type": "code",
   "execution_count": 28,
   "metadata": {},
   "outputs": [],
   "source": [
    "resolution.write(0x10, 720)\n",
    "resolution.write(0x18, 1280)"
   ]
  },
  {
   "cell_type": "code",
   "execution_count": 19,
   "metadata": {},
   "outputs": [],
   "source": [
    "# send input buffer and read the output\n",
    "def run_kernel():\n",
    "    dma.sendchannel.transfer(in_buffer)\n",
    "    dma.recvchannel.transfer(out_buffer)\n",
    "    dma.sendchannel.wait()\n",
    "    dma.recvchannel.wait()"
   ]
  },
  {
   "cell_type": "code",
   "execution_count": 29,
   "metadata": {},
   "outputs": [],
   "source": [
    "run_kernel()\n"
   ]
  },
  {
   "cell_type": "code",
   "execution_count": 30,
   "metadata": {},
   "outputs": [
    {
     "data": {
      "text/plain": [
       "<contextlib._GeneratorContextManager at 0xaeebef10>"
      ]
     },
     "execution_count": 30,
     "metadata": {},
     "output_type": "execute_result"
    }
   ],
   "source": [
    "## BASE OVERLAY AGAIN\n",
    "\n",
    "base = BaseOverlay(\"base.bit\")\n",
    "vdma = base.video.axi_vdma\n",
    "\n",
    "# Set HDMI in and out vars\n",
    "hdmi_in = base.video.hdmi_in\n",
    "hdmi_out = base.video.hdmi_out\n",
    "# initialize IO\n",
    "hdmi_in.configure(PIXEL_RGB)\n",
    "hdmi_out.configure(hdmi_in.mode, PIXEL_RGB)\n",
    "\n",
    "hdmi_in.start()\n",
    "hdmi_out.start()"
   ]
  },
  {
   "cell_type": "code",
   "execution_count": 32,
   "metadata": {},
   "outputs": [],
   "source": [
    "hdmi_out.writeframe(in_buffer)"
   ]
  },
  {
   "cell_type": "code",
   "execution_count": 33,
   "metadata": {},
   "outputs": [],
   "source": [
    "hdmi_out.writeframe(out_buffer)"
   ]
  },
  {
   "cell_type": "code",
   "execution_count": 34,
   "metadata": {},
   "outputs": [],
   "source": [
    "hdmi_out.close()\n",
    "hdmi_in.close()"
   ]
  },
  {
   "cell_type": "code",
   "execution_count": null,
   "metadata": {},
   "outputs": [],
   "source": []
  },
  {
   "cell_type": "code",
   "execution_count": null,
   "metadata": {},
   "outputs": [],
   "source": []
  }
 ],
 "metadata": {
  "kernelspec": {
   "display_name": "Python 3",
   "language": "python",
   "name": "python3"
  },
  "language_info": {
   "codemirror_mode": {
    "name": "ipython",
    "version": 3
   },
   "file_extension": ".py",
   "mimetype": "text/x-python",
   "name": "python",
   "nbconvert_exporter": "python",
   "pygments_lexer": "ipython3",
   "version": "3.8.5"
  }
 },
 "nbformat": 4,
 "nbformat_minor": 2
}