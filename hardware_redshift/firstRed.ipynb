{
 "cells": [
  {
   "cell_type": "code",
   "execution_count": 2,
   "metadata": {},
   "outputs": [],
   "source": [
    "## imports for custom overlay\n",
    "from pynq import Overlay\n",
    "import numpy as np\n",
    "## imports for baseoverlay HDMI\n",
    "from pynq.overlays.base import BaseOverlay\n",
    "from pynq.lib.video import *\n",
    "import numpy as np\n",
    "import asyncio\n",
    "## Import for DMA alloc\n",
    "from pynq import allocate\n",
    "\n"
   ]
  },
  {
   "cell_type": "code",
   "execution_count": 12,
   "metadata": {},
   "outputs": [
    {
     "data": {
      "text/plain": [
       "<contextlib._GeneratorContextManager at 0xaacebd10>"
      ]
     },
     "execution_count": 12,
     "metadata": {},
     "output_type": "execute_result"
    }
   ],
   "source": [
    "## BASE OVERLAY\n",
    "\n",
    "base = BaseOverlay(\"base.bit\")\n",
    "vdma = base.video.axi_vdma\n",
    "\n",
    "# Set HDMI in and out vars\n",
    "hdmi_in = base.video.hdmi_in\n",
    "hdmi_out = base.video.hdmi_out\n",
    "# initialize IO\n",
    "hdmi_in.configure(PIXEL_RGB)\n",
    "hdmi_out.configure(hdmi_in.mode, PIXEL_RGB)\n",
    "\n",
    "hdmi_in.start()\n",
    "hdmi_out.start()"
   ]
  },
  {
   "cell_type": "code",
   "execution_count": 13,
   "metadata": {},
   "outputs": [],
   "source": [
    "# read a frame, allocate a buffer to hold it\n",
    "frame = hdmi_in.readframe()\n",
    "\n",
    "in_buffer = allocate(shape=frame.shape, dtype=np.uint8)\n",
    "out_buffer = allocate(shape=frame.shape, dtype=np.uint8)\n",
    "\n",
    "in_buffer[:] = frame\n",
    "hdmi_out.writeframe(in_buffer)"
   ]
  },
  {
   "cell_type": "code",
   "execution_count": 14,
   "metadata": {},
   "outputs": [],
   "source": [
    "hdmi_out.close()\n",
    "hdmi_in.close()"
   ]
  },
  {
   "cell_type": "code",
   "execution_count": 15,
   "metadata": {},
   "outputs": [],
   "source": [
    "## CUSTOM OVERLAY\n",
    "# Then do the stream overlay for the processing\n",
    "stream_overlay = Overlay('red.bit')\n",
    "dma = stream_overlay.redDMA.axi_dma_0"
   ]
  },
  {
   "cell_type": "code",
   "execution_count": 7,
   "metadata": {},
   "outputs": [],
   "source": [
    "# send input buffer and read the output\n",
    "def run_kernel():\n",
    "    dma.sendchannel.transfer(in_buffer)\n",
    "    dma.recvchannel.transfer(out_buffer)\n",
    "    dma.sendchannel.wait()\n",
    "    dma.recvchannel.wait()"
   ]
  },
  {
   "cell_type": "code",
   "execution_count": 16,
   "metadata": {},
   "outputs": [],
   "source": [
    "run_kernel()\n"
   ]
  },
  {
   "cell_type": "code",
   "execution_count": 17,
   "metadata": {},
   "outputs": [
    {
     "data": {
      "text/plain": [
       "<contextlib._GeneratorContextManager at 0xad71afd0>"
      ]
     },
     "execution_count": 17,
     "metadata": {},
     "output_type": "execute_result"
    }
   ],
   "source": [
    "## BASE OVERLAY AGAIN\n",
    "\n",
    "base = BaseOverlay(\"base.bit\")\n",
    "vdma = base.video.axi_vdma\n",
    "\n",
    "# Set HDMI in and out vars\n",
    "hdmi_in = base.video.hdmi_in\n",
    "hdmi_out = base.video.hdmi_out\n",
    "# initialize IO\n",
    "hdmi_in.configure(PIXEL_RGB)\n",
    "hdmi_out.configure(hdmi_in.mode, PIXEL_RGB)\n",
    "\n",
    "hdmi_in.start()\n",
    "hdmi_out.start()"
   ]
  },
  {
   "cell_type": "code",
   "execution_count": 18,
   "metadata": {},
   "outputs": [],
   "source": [
    "hdmi_out.writeframe(out_buffer)"
   ]
  },
  {
   "cell_type": "code",
   "execution_count": 19,
   "metadata": {},
   "outputs": [],
   "source": [
    "hdmi_out.close()\n",
    "hdmi_in.close()"
   ]
  },
  {
   "cell_type": "code",
   "execution_count": null,
   "metadata": {},
   "outputs": [],
   "source": []
  }
 ],
 "metadata": {
  "kernelspec": {
   "display_name": "Python 3",
   "language": "python",
   "name": "python3"
  },
  "language_info": {
   "codemirror_mode": {
    "name": "ipython",
    "version": 3
   },
   "file_extension": ".py",
   "mimetype": "text/x-python",
   "name": "python",
   "nbconvert_exporter": "python",
   "pygments_lexer": "ipython3",
   "version": "3.6.5"
  }
 },
 "nbformat": 4,
 "nbformat_minor": 2
}
